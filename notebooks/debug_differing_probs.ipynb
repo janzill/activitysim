{
 "cells": [
  {
   "cell_type": "code",
   "execution_count": 39,
   "metadata": {
    "collapsed": true
   },
   "outputs": [],
   "source": [
    "import os\n",
    "\n",
    "\n",
    "import pandas as pd\n",
    "import numpy as np\n",
    "import matplotlib.pyplot as plt\n",
    "\n",
    "from activitysim.core import logit"
   ]
  },
  {
   "cell_type": "code",
   "execution_count": 2,
   "outputs": [],
   "source": [
    "root_dir = '/mnt/c/Users/jan.zill/code/activitysim/test_example_mtc/output/trace'\n",
    "asim_exp_utils = os.path.join(root_dir, 'trip_mode_choice.social.simple_simulate.eval_nl.nested_exp_utilities.csv')\n",
    "my_utils = os.path.join(root_dir, 'trip_mode_choice.social.simple_simulate.eval_nl_fixed_ru.nested_utilities.csv')\n",
    "\n",
    "asim = pd.read_csv(asim_exp_utils, index_col=0)\n",
    "mine = pd.read_csv(my_utils, index_col=0)\n",
    "asim = asim.loc[asim.index != 'trip_id']\n",
    "mine = mine.loc[mine.index != 'trip_id']"
   ],
   "metadata": {
    "collapsed": false,
    "pycharm": {
     "name": "#%%\n"
    }
   }
  },
  {
   "cell_type": "code",
   "execution_count": 3,
   "outputs": [],
   "source": [
    "m_exp = np.exp(mine)"
   ],
   "metadata": {
    "collapsed": false,
    "pycharm": {
     "name": "#%%\n"
    }
   }
  },
  {
   "cell_type": "code",
   "execution_count": 4,
   "outputs": [
    {
     "data": {
      "text/plain": "                utility_1_mine  utility_2_mine  utility_1_asim  utility_2_asim\nalternative                                                                   \nDRIVEALONEFREE    0.000000e+00    0.000000e+00    0.000000e+00    0.000000e+00\nDRIVEALONEPAY     0.000000e+00    0.000000e+00    0.000000e+00    0.000000e+00\nDRIVEALONE        0.000000e+00    0.000000e+00    0.000000e+00    0.000000e+00\nSHARED2FREE       2.360259e-05    1.005576e-05    3.745890e-07    1.145275e-07\nSHARED2PAY        0.000000e+00    0.000000e+00    0.000000e+00    0.000000e+00\nSHAREDRIDE2       5.633059e-03    3.720646e-03    5.633059e-03    3.720646e-03\nSHARED3FREE       5.135219e-28    2.827373e-28    1.253137e-38    5.470565e-39\nSHARED3PAY        0.000000e+00    0.000000e+00    0.000000e+00    0.000000e+00\nSHAREDRIDE3       5.423748e-14    4.057993e-14    5.423748e-14    4.057993e-14\nAUTO              2.401795e-02    1.781744e-02    2.401795e-02    1.781744e-02\nWALK              1.227743e-01    1.169488e-01    1.227743e-01    1.169488e-01\nBIKE              0.000000e+00    0.000000e+00    0.000000e+00    0.000000e+00\nNONMOTORIZED      2.208805e-01    2.132833e-01    2.208805e-01    2.132833e-01\nWALK_LOC          2.986135e+00    3.294345e+00    4.569558e+00    5.237497e+00\nWALK_LRF          2.082117e+01    2.080660e+01    6.780429e+01    6.773840e+01\nWALK_EXP          0.000000e+00    0.000000e+00    0.000000e+00    0.000000e+00\nWALK_HVY          0.000000e+00    0.000000e+00    0.000000e+00    0.000000e+00\nWALK_COM          0.000000e+00    0.000000e+00    0.000000e+00    0.000000e+00\nWALKACCESS        9.037510e+00    9.114774e+00    8.507282e+00    8.542593e+00\nDRIVE_LOC         0.000000e+00    0.000000e+00    0.000000e+00    0.000000e+00\nDRIVE_LRF         0.000000e+00    0.000000e+00    0.000000e+00    0.000000e+00\nDRIVE_EXP         0.000000e+00    0.000000e+00    0.000000e+00    0.000000e+00\nDRIVE_HVY         0.000000e+00    0.000000e+00    0.000000e+00    0.000000e+00\nDRIVE_COM         0.000000e+00    0.000000e+00    0.000000e+00    0.000000e+00\nDRIVEACCESS       0.000000e+00    0.000000e+00    0.000000e+00    0.000000e+00\nTRANSIT           4.879273e+00    4.909272e+00    4.671425e+00    4.685378e+00\nTAXI              1.139857e-08    1.100459e-08    1.139857e-08    1.100459e-08\nTNC_SINGLE        1.550781e-08    1.559096e-08    1.550781e-08    1.559096e-08\nTNC_SHARED        3.400981e-08    3.416712e-08    3.400981e-08    3.416712e-08\nRIDEHAIL          2.526410e-03    2.524116e-03    2.526410e-03    2.524116e-03\nroot              5.126698e+00    5.142896e+00    4.918850e+00    4.919003e+00",
      "text/html": "<div>\n<style scoped>\n    .dataframe tbody tr th:only-of-type {\n        vertical-align: middle;\n    }\n\n    .dataframe tbody tr th {\n        vertical-align: top;\n    }\n\n    .dataframe thead th {\n        text-align: right;\n    }\n</style>\n<table border=\"1\" class=\"dataframe\">\n  <thead>\n    <tr style=\"text-align: right;\">\n      <th></th>\n      <th>utility_1_mine</th>\n      <th>utility_2_mine</th>\n      <th>utility_1_asim</th>\n      <th>utility_2_asim</th>\n    </tr>\n    <tr>\n      <th>alternative</th>\n      <th></th>\n      <th></th>\n      <th></th>\n      <th></th>\n    </tr>\n  </thead>\n  <tbody>\n    <tr>\n      <th>DRIVEALONEFREE</th>\n      <td>0.000000e+00</td>\n      <td>0.000000e+00</td>\n      <td>0.000000e+00</td>\n      <td>0.000000e+00</td>\n    </tr>\n    <tr>\n      <th>DRIVEALONEPAY</th>\n      <td>0.000000e+00</td>\n      <td>0.000000e+00</td>\n      <td>0.000000e+00</td>\n      <td>0.000000e+00</td>\n    </tr>\n    <tr>\n      <th>DRIVEALONE</th>\n      <td>0.000000e+00</td>\n      <td>0.000000e+00</td>\n      <td>0.000000e+00</td>\n      <td>0.000000e+00</td>\n    </tr>\n    <tr>\n      <th>SHARED2FREE</th>\n      <td>2.360259e-05</td>\n      <td>1.005576e-05</td>\n      <td>3.745890e-07</td>\n      <td>1.145275e-07</td>\n    </tr>\n    <tr>\n      <th>SHARED2PAY</th>\n      <td>0.000000e+00</td>\n      <td>0.000000e+00</td>\n      <td>0.000000e+00</td>\n      <td>0.000000e+00</td>\n    </tr>\n    <tr>\n      <th>SHAREDRIDE2</th>\n      <td>5.633059e-03</td>\n      <td>3.720646e-03</td>\n      <td>5.633059e-03</td>\n      <td>3.720646e-03</td>\n    </tr>\n    <tr>\n      <th>SHARED3FREE</th>\n      <td>5.135219e-28</td>\n      <td>2.827373e-28</td>\n      <td>1.253137e-38</td>\n      <td>5.470565e-39</td>\n    </tr>\n    <tr>\n      <th>SHARED3PAY</th>\n      <td>0.000000e+00</td>\n      <td>0.000000e+00</td>\n      <td>0.000000e+00</td>\n      <td>0.000000e+00</td>\n    </tr>\n    <tr>\n      <th>SHAREDRIDE3</th>\n      <td>5.423748e-14</td>\n      <td>4.057993e-14</td>\n      <td>5.423748e-14</td>\n      <td>4.057993e-14</td>\n    </tr>\n    <tr>\n      <th>AUTO</th>\n      <td>2.401795e-02</td>\n      <td>1.781744e-02</td>\n      <td>2.401795e-02</td>\n      <td>1.781744e-02</td>\n    </tr>\n    <tr>\n      <th>WALK</th>\n      <td>1.227743e-01</td>\n      <td>1.169488e-01</td>\n      <td>1.227743e-01</td>\n      <td>1.169488e-01</td>\n    </tr>\n    <tr>\n      <th>BIKE</th>\n      <td>0.000000e+00</td>\n      <td>0.000000e+00</td>\n      <td>0.000000e+00</td>\n      <td>0.000000e+00</td>\n    </tr>\n    <tr>\n      <th>NONMOTORIZED</th>\n      <td>2.208805e-01</td>\n      <td>2.132833e-01</td>\n      <td>2.208805e-01</td>\n      <td>2.132833e-01</td>\n    </tr>\n    <tr>\n      <th>WALK_LOC</th>\n      <td>2.986135e+00</td>\n      <td>3.294345e+00</td>\n      <td>4.569558e+00</td>\n      <td>5.237497e+00</td>\n    </tr>\n    <tr>\n      <th>WALK_LRF</th>\n      <td>2.082117e+01</td>\n      <td>2.080660e+01</td>\n      <td>6.780429e+01</td>\n      <td>6.773840e+01</td>\n    </tr>\n    <tr>\n      <th>WALK_EXP</th>\n      <td>0.000000e+00</td>\n      <td>0.000000e+00</td>\n      <td>0.000000e+00</td>\n      <td>0.000000e+00</td>\n    </tr>\n    <tr>\n      <th>WALK_HVY</th>\n      <td>0.000000e+00</td>\n      <td>0.000000e+00</td>\n      <td>0.000000e+00</td>\n      <td>0.000000e+00</td>\n    </tr>\n    <tr>\n      <th>WALK_COM</th>\n      <td>0.000000e+00</td>\n      <td>0.000000e+00</td>\n      <td>0.000000e+00</td>\n      <td>0.000000e+00</td>\n    </tr>\n    <tr>\n      <th>WALKACCESS</th>\n      <td>9.037510e+00</td>\n      <td>9.114774e+00</td>\n      <td>8.507282e+00</td>\n      <td>8.542593e+00</td>\n    </tr>\n    <tr>\n      <th>DRIVE_LOC</th>\n      <td>0.000000e+00</td>\n      <td>0.000000e+00</td>\n      <td>0.000000e+00</td>\n      <td>0.000000e+00</td>\n    </tr>\n    <tr>\n      <th>DRIVE_LRF</th>\n      <td>0.000000e+00</td>\n      <td>0.000000e+00</td>\n      <td>0.000000e+00</td>\n      <td>0.000000e+00</td>\n    </tr>\n    <tr>\n      <th>DRIVE_EXP</th>\n      <td>0.000000e+00</td>\n      <td>0.000000e+00</td>\n      <td>0.000000e+00</td>\n      <td>0.000000e+00</td>\n    </tr>\n    <tr>\n      <th>DRIVE_HVY</th>\n      <td>0.000000e+00</td>\n      <td>0.000000e+00</td>\n      <td>0.000000e+00</td>\n      <td>0.000000e+00</td>\n    </tr>\n    <tr>\n      <th>DRIVE_COM</th>\n      <td>0.000000e+00</td>\n      <td>0.000000e+00</td>\n      <td>0.000000e+00</td>\n      <td>0.000000e+00</td>\n    </tr>\n    <tr>\n      <th>DRIVEACCESS</th>\n      <td>0.000000e+00</td>\n      <td>0.000000e+00</td>\n      <td>0.000000e+00</td>\n      <td>0.000000e+00</td>\n    </tr>\n    <tr>\n      <th>TRANSIT</th>\n      <td>4.879273e+00</td>\n      <td>4.909272e+00</td>\n      <td>4.671425e+00</td>\n      <td>4.685378e+00</td>\n    </tr>\n    <tr>\n      <th>TAXI</th>\n      <td>1.139857e-08</td>\n      <td>1.100459e-08</td>\n      <td>1.139857e-08</td>\n      <td>1.100459e-08</td>\n    </tr>\n    <tr>\n      <th>TNC_SINGLE</th>\n      <td>1.550781e-08</td>\n      <td>1.559096e-08</td>\n      <td>1.550781e-08</td>\n      <td>1.559096e-08</td>\n    </tr>\n    <tr>\n      <th>TNC_SHARED</th>\n      <td>3.400981e-08</td>\n      <td>3.416712e-08</td>\n      <td>3.400981e-08</td>\n      <td>3.416712e-08</td>\n    </tr>\n    <tr>\n      <th>RIDEHAIL</th>\n      <td>2.526410e-03</td>\n      <td>2.524116e-03</td>\n      <td>2.526410e-03</td>\n      <td>2.524116e-03</td>\n    </tr>\n    <tr>\n      <th>root</th>\n      <td>5.126698e+00</td>\n      <td>5.142896e+00</td>\n      <td>4.918850e+00</td>\n      <td>4.919003e+00</td>\n    </tr>\n  </tbody>\n</table>\n</div>"
     },
     "execution_count": 4,
     "metadata": {},
     "output_type": "execute_result"
    }
   ],
   "source": [
    "m_exp.merge(asim, left_index=True, right_index=True, suffixes=[\"_mine\", \"_asim\"])"
   ],
   "metadata": {
    "collapsed": false,
    "pycharm": {
     "name": "#%%\n"
    }
   }
  },
  {
   "cell_type": "markdown",
   "source": [
    "## so three-level nests are different\n",
    "\n",
    "but we have other cases where three-level nests were identical. Let's read in utilities and start working from there."
   ],
   "metadata": {
    "collapsed": false,
    "pycharm": {
     "name": "#%% md\n"
    }
   }
  },
  {
   "cell_type": "code",
   "execution_count": 5,
   "outputs": [],
   "source": [
    "utils = pd.read_csv(os.path.join(root_dir, \"trip_mode_choice.social.simple_simulate.eval_nl.raw_utilities.csv\"),\n",
    "                        index_col=0)\n",
    "my_utils = pd.read_csv(os.path.join(root_dir, \"trip_mode_choice.social.simple_simulate.eval_nl_fixed_ru.raw_utilities\"\n",
    "                                              \".csv\"), index_col=0)\n",
    "pd.testing.assert_frame_equal(utils, my_utils)"
   ],
   "metadata": {
    "collapsed": false,
    "pycharm": {
     "name": "#%%\n"
    }
   }
  },
  {
   "cell_type": "code",
   "execution_count": 6,
   "outputs": [],
   "source": [
    "# choose one to work with\n",
    "utils = utils[[\"utility_1\"]]\n",
    "utils = utils.loc[utils.index != 'trip_id']"
   ],
   "metadata": {
    "collapsed": false,
    "pycharm": {
     "name": "#%%\n"
    }
   }
  },
  {
   "cell_type": "code",
   "execution_count": 7,
   "outputs": [
    {
     "name": "stderr",
     "output_type": "stream",
     "text": [
      "setting trace_hh_id is wrong type, should be an int, but was <class 'list'>\n",
      "estimation bundle trip_mode_choice not in settings file estimation.yaml\n"
     ]
    },
    {
     "name": "stdout",
     "output_type": "stream",
     "text": [
      "Running with %d trips 482\n",
      "trip_mode_choice tour_type 'social' (19 trips)\n",
      "Done\n"
     ]
    }
   ],
   "source": [
    "import argparse\n",
    "from activitysim.cli import run\n",
    "from activitysim.core import inject\n",
    "\n",
    "example_dir = \"/mnt/c/Users/jan.zill/code/activitysim/test_example_mtc\"\n",
    "os.chdir(example_dir)\n",
    "\n",
    "parser = argparse.ArgumentParser()\n",
    "run.add_run_args(parser)\n",
    "# args = parser.parse_args()\n",
    "# parser.parse_args(['--sum', '7', '-1', '42'])\n",
    "args = parser.parse_args(['-c', 'configs', '-o', 'output', '-d', 'data'])\n",
    "#run.run(args)  # 2mins full example run\n",
    "if not inject.is_injectable('preload_injectables'):\n",
    "    from activitysim import abm  # register abm steps and other abm-specific injectables\n",
    "run.handle_standard_args(args)  # possibly update injectables\n",
    "\n",
    "# get nest spec\n",
    "from fru_utils import get_stuff\n",
    "t, ru, neu, nu, ns, nested_probs, base_probs = get_stuff(do_these_purposes=[\"social\"])  #social\n",
    "nest_spec = ns[0]"
   ],
   "metadata": {
    "collapsed": false,
    "pycharm": {
     "name": "#%%\n"
    }
   }
  },
  {
   "cell_type": "code",
   "execution_count": 40,
   "outputs": [],
   "source": [
    "# these are the same as np.exp(mine), so no rounding error or anything\n",
    "def compute_nested_exp_utils_new(raw_utilities, nest_spec):\n",
    "    nested_utilities = pd.DataFrame(index=raw_utilities.index)\n",
    "    for nest in logit.each_nest(nest_spec, post_order=True):\n",
    "        name = nest.name\n",
    "        if nest.is_leaf:\n",
    "            # do not scale here, do afterwards so recursive structure works\n",
    "            nested_utilities[name] = raw_utilities[name].astype(float)\n",
    "        else:\n",
    "            # the alternative nested_utilities will already have been computed due to post_order\n",
    "            with np.errstate(divide='ignore'):\n",
    "                nested_utilities[name] = nest.coefficient * np.log(\n",
    "                    nested_utilities[nest.alternatives].sum(axis=1))\n",
    "        if nest.level > 1:  # root does not have parent. also, parent_scale seems to be 0.\n",
    "            nested_utilities[name] = np.exp(nested_utilities[name] / nest.parent_scale)\n",
    "        else:\n",
    "            nested_utilities[name] = np.exp(nested_utilities[name])\n",
    "    return nested_utilities"
   ],
   "metadata": {
    "collapsed": false,
    "pycharm": {
     "name": "#%%\n"
    }
   }
  },
  {
   "cell_type": "code",
   "execution_count": 51,
   "outputs": [
    {
     "data": {
      "text/plain": "                      asim          mine\nSHARED2FREE   3.745890e-07  2.360259e-05\nSHAREDRIDE2   5.633059e-03  2.360259e-05\nSHARED3FREE   1.253137e-38  5.135219e-28\nSHAREDRIDE3   5.423748e-14  5.135219e-28\nAUTO          2.401795e-02  2.360259e-05\nNONMOTORIZED  2.208805e-01  1.227743e-01\nWALK_LOC      4.569558e+00  2.986135e+00\nWALK_LRF      6.780429e+01  2.082117e+01\nWALKACCESS    8.507282e+00  2.380731e+01\nTRANSIT       4.671425e+00  2.380731e+01\nRIDEHAIL      2.526410e-03  6.091619e-08\nroot          4.918850e+00  2.393010e+01",
      "text/html": "<div>\n<style scoped>\n    .dataframe tbody tr th:only-of-type {\n        vertical-align: middle;\n    }\n\n    .dataframe tbody tr th {\n        vertical-align: top;\n    }\n\n    .dataframe thead th {\n        text-align: right;\n    }\n</style>\n<table border=\"1\" class=\"dataframe\">\n  <thead>\n    <tr style=\"text-align: right;\">\n      <th></th>\n      <th>asim</th>\n      <th>mine</th>\n    </tr>\n  </thead>\n  <tbody>\n    <tr>\n      <th>SHARED2FREE</th>\n      <td>3.745890e-07</td>\n      <td>2.360259e-05</td>\n    </tr>\n    <tr>\n      <th>SHAREDRIDE2</th>\n      <td>5.633059e-03</td>\n      <td>2.360259e-05</td>\n    </tr>\n    <tr>\n      <th>SHARED3FREE</th>\n      <td>1.253137e-38</td>\n      <td>5.135219e-28</td>\n    </tr>\n    <tr>\n      <th>SHAREDRIDE3</th>\n      <td>5.423748e-14</td>\n      <td>5.135219e-28</td>\n    </tr>\n    <tr>\n      <th>AUTO</th>\n      <td>2.401795e-02</td>\n      <td>2.360259e-05</td>\n    </tr>\n    <tr>\n      <th>NONMOTORIZED</th>\n      <td>2.208805e-01</td>\n      <td>1.227743e-01</td>\n    </tr>\n    <tr>\n      <th>WALK_LOC</th>\n      <td>4.569558e+00</td>\n      <td>2.986135e+00</td>\n    </tr>\n    <tr>\n      <th>WALK_LRF</th>\n      <td>6.780429e+01</td>\n      <td>2.082117e+01</td>\n    </tr>\n    <tr>\n      <th>WALKACCESS</th>\n      <td>8.507282e+00</td>\n      <td>2.380731e+01</td>\n    </tr>\n    <tr>\n      <th>TRANSIT</th>\n      <td>4.671425e+00</td>\n      <td>2.380731e+01</td>\n    </tr>\n    <tr>\n      <th>RIDEHAIL</th>\n      <td>2.526410e-03</td>\n      <td>6.091619e-08</td>\n    </tr>\n    <tr>\n      <th>root</th>\n      <td>4.918850e+00</td>\n      <td>2.393010e+01</td>\n    </tr>\n  </tbody>\n</table>\n</div>"
     },
     "execution_count": 51,
     "metadata": {},
     "output_type": "execute_result"
    }
   ],
   "source": [
    "def compute_nested_utils(raw_utilities, nest_spec):\n",
    "    nested_utilities = pd.DataFrame(index=raw_utilities.index)\n",
    "    for nest in logit.each_nest(nest_spec, post_order=True):\n",
    "        name = nest.name\n",
    "        if nest.is_leaf:\n",
    "            # do not scale here, do afterwards so recursive structure works\n",
    "            nested_utilities[name] = raw_utilities[name].astype(float)\n",
    "        else:\n",
    "            # the alternative nested_utilities will already have been computed due to post_order\n",
    "            with np.errstate(divide='ignore'):\n",
    "                nested_utilities[name] = nest.coefficient * np.log(\n",
    "                        np.exp(nested_utilities[nest.alternatives]).sum(axis=1))\n",
    "        if nest.level > 1:  # root does not have parent. also, parent_scale seems to be 0.\n",
    "            nested_utilities[name] = nested_utilities[name] / nest.coefficient  #parent_scale\n",
    "    return nested_utilities\n",
    "\n",
    "\n",
    "def compute_nested_exp_utils(raw_utilities, nest_spec):\n",
    "    nested_utilities = pd.DataFrame(index=raw_utilities.index)\n",
    "    for nest in logit.each_nest(nest_spec, post_order=True):\n",
    "        name = nest.name\n",
    "        if nest.is_leaf:\n",
    "            nested_utilities[name] = raw_utilities[name].astype(float) / nest.product_of_coefficients\n",
    "        else:\n",
    "            with np.errstate(divide='ignore'):\n",
    "                nested_utilities[name] = nest.coefficient * np.log(nested_utilities[nest.alternatives].sum(axis=1))\n",
    "        nested_utilities[name] = np.exp(nested_utilities[name])\n",
    "    return nested_utilities\n",
    "\n",
    "neu = compute_nested_exp_utils(utils.T, nest_spec)\n",
    "nu = compute_nested_utils(utils.T, nest_spec)\n",
    "neu_new = compute_nested_exp_utils_new(utils.T, nest_spec)\n",
    "\n",
    "exp_utils = pd.concat([neu, np.exp(nu)]).T\n",
    "#exp_utils = pd.concat([neu, neu_new]).T\n",
    "exp_utils.columns = [\"asim\", \"mine\"]\n",
    "exp_utils.loc[exp_utils.asim != exp_utils.mine]"
   ],
   "metadata": {
    "collapsed": false,
    "pycharm": {
     "name": "#%%\n"
    }
   }
  },
  {
   "cell_type": "markdown",
   "source": [
    "## why are these different, but then for others they are not\n",
    "\n",
    "maybe those don't have two three-level nests involved? Run two-level nested logit test and compare. Result: logsums\n",
    "are now identical, and the probabilities calculated by closed-form solution are, but the simulated probabilities are\n",
    "still NOT identical. Why? Could it be due to clipping?\n",
    "  - CHECK\n",
    "also check if my drawing is right. Also check if I have equal probs and idxmax always returns the first.\n",
    "\n",
    "MY DRAWINF IS WRONG I don't keep walking down the chosen nest"
   ],
   "metadata": {
    "collapsed": false,
    "pycharm": {
     "name": "#%% md\n"
    }
   }
  },
  {
   "cell_type": "code",
   "execution_count": null,
   "outputs": [],
   "source": [],
   "metadata": {
    "collapsed": false,
    "pycharm": {
     "name": "#%%\n"
    }
   }
  },
  {
   "cell_type": "code",
   "execution_count": 50,
   "outputs": [
    {
     "data": {
      "text/plain": "                  utility_1\nalternative                \nDRIVEALONEFREE -1998.364809\nDRIVEALONEPAY  -2997.364809\nSHARED2FREE       -3.728954\nSHARED2PAY     -1002.728954\nSHARED3FREE      -21.992691\nSHARED3PAY     -1020.992691\nWALK              -1.510134\nBIKE            -998.887534\nWALK_LOC           0.546990\nWALK_LRF           1.517985\nWALK_EXP        -997.788210\nWALK_HVY        -997.798638\nWALK_COM        -997.940110\nDRIVE_LOC      -2996.529871\nDRIVE_LRF      -2998.118028\nDRIVE_EXP      -2998.118028\nDRIVE_HVY      -2998.423994\nDRIVE_COM      -2999.020105\nTAXI              -6.584320\nTNC_SINGLE        -6.473492\nTNC_SHARED        -6.190782",
      "text/html": "<div>\n<style scoped>\n    .dataframe tbody tr th:only-of-type {\n        vertical-align: middle;\n    }\n\n    .dataframe tbody tr th {\n        vertical-align: top;\n    }\n\n    .dataframe thead th {\n        text-align: right;\n    }\n</style>\n<table border=\"1\" class=\"dataframe\">\n  <thead>\n    <tr style=\"text-align: right;\">\n      <th></th>\n      <th>utility_1</th>\n    </tr>\n    <tr>\n      <th>alternative</th>\n      <th></th>\n    </tr>\n  </thead>\n  <tbody>\n    <tr>\n      <th>DRIVEALONEFREE</th>\n      <td>-1998.364809</td>\n    </tr>\n    <tr>\n      <th>DRIVEALONEPAY</th>\n      <td>-2997.364809</td>\n    </tr>\n    <tr>\n      <th>SHARED2FREE</th>\n      <td>-3.728954</td>\n    </tr>\n    <tr>\n      <th>SHARED2PAY</th>\n      <td>-1002.728954</td>\n    </tr>\n    <tr>\n      <th>SHARED3FREE</th>\n      <td>-21.992691</td>\n    </tr>\n    <tr>\n      <th>SHARED3PAY</th>\n      <td>-1020.992691</td>\n    </tr>\n    <tr>\n      <th>WALK</th>\n      <td>-1.510134</td>\n    </tr>\n    <tr>\n      <th>BIKE</th>\n      <td>-998.887534</td>\n    </tr>\n    <tr>\n      <th>WALK_LOC</th>\n      <td>0.546990</td>\n    </tr>\n    <tr>\n      <th>WALK_LRF</th>\n      <td>1.517985</td>\n    </tr>\n    <tr>\n      <th>WALK_EXP</th>\n      <td>-997.788210</td>\n    </tr>\n    <tr>\n      <th>WALK_HVY</th>\n      <td>-997.798638</td>\n    </tr>\n    <tr>\n      <th>WALK_COM</th>\n      <td>-997.940110</td>\n    </tr>\n    <tr>\n      <th>DRIVE_LOC</th>\n      <td>-2996.529871</td>\n    </tr>\n    <tr>\n      <th>DRIVE_LRF</th>\n      <td>-2998.118028</td>\n    </tr>\n    <tr>\n      <th>DRIVE_EXP</th>\n      <td>-2998.118028</td>\n    </tr>\n    <tr>\n      <th>DRIVE_HVY</th>\n      <td>-2998.423994</td>\n    </tr>\n    <tr>\n      <th>DRIVE_COM</th>\n      <td>-2999.020105</td>\n    </tr>\n    <tr>\n      <th>TAXI</th>\n      <td>-6.584320</td>\n    </tr>\n    <tr>\n      <th>TNC_SINGLE</th>\n      <td>-6.473492</td>\n    </tr>\n    <tr>\n      <th>TNC_SHARED</th>\n      <td>-6.190782</td>\n    </tr>\n  </tbody>\n</table>\n</div>"
     },
     "execution_count": 50,
     "metadata": {},
     "output_type": "execute_result"
    }
   ],
   "source": [
    "utils"
   ],
   "metadata": {
    "collapsed": false,
    "pycharm": {
     "name": "#%%\n"
    }
   }
  },
  {
   "cell_type": "code",
   "execution_count": null,
   "outputs": [],
   "source": [],
   "metadata": {
    "collapsed": false,
    "pycharm": {
     "name": "#%%\n"
    }
   }
  }
 ],
 "metadata": {
  "kernelspec": {
   "display_name": "Python 3",
   "language": "python",
   "name": "python3"
  },
  "language_info": {
   "codemirror_mode": {
    "name": "ipython",
    "version": 2
   },
   "file_extension": ".py",
   "mimetype": "text/x-python",
   "name": "python",
   "nbconvert_exporter": "python",
   "pygments_lexer": "ipython2",
   "version": "2.7.6"
  }
 },
 "nbformat": 4,
 "nbformat_minor": 0
}